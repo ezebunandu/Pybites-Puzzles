{
 "cells": [
  {
   "cell_type": "code",
   "execution_count": 1,
   "metadata": {},
   "outputs": [],
   "source": [
    "from pathlib import Path\n",
    "from urllib.request import urlretrieve\n",
    "\n",
    "from bs4 import BeautifulSoup as Soup\n",
    "import roman\n",
    "\n",
    "out_dir = \"../tmp\"\n",
    "html_file = f\"{out_dir}/enchantment_list_pc.html\"\n",
    "\n",
    "HTML_FILE = Path(html_file)\n",
    "# source:\n",
    "# https://www.digminecraft.com/lists/enchantment_list_pc.php\n",
    "URL = \"https://www.digminecraft.com/lists/enchantment_list_pc.php\""
   ]
  },
  {
   "cell_type": "code",
   "execution_count": 2,
   "metadata": {},
   "outputs": [],
   "source": [
    "class Enchantment:\n",
    "    \"\"\"Minecraft enchantment class\n",
    "    \n",
    "    Implements the following: \n",
    "        id_name, name, max_level, description, items\n",
    "    \"\"\"\n",
    "\n",
    "    def __init__(self, id_name, name, max_level, description, items):\n",
    "        self.id_name = id_name\n",
    "        self.name = name\n",
    "        self.max_level = max_level\n",
    "        self.description = description\n",
    "        self.items = items or []\n",
    "\n",
    "    def __repr(self):\n",
    "        return f\"{self.name} ({self.max_level}) {self.description}\""
   ]
  },
  {
   "cell_type": "code",
   "execution_count": 3,
   "metadata": {},
   "outputs": [],
   "source": [
    "class Item:\n",
    "    \"\"\"Minecraft enchantable item class\n",
    "    \n",
    "    Implements the following: \n",
    "        name, enchantments\n",
    "    \"\"\"\n",
    "\n",
    "    def __init__(self, name, enchantments):\n",
    "        self.name = name\n",
    "        self.enchantments = enchantments or []\n",
    "\n",
    "    def __repr__(self):\n",
    "        name = self.name.replace('_', ' ')\n",
    "        items = []\n",
    "        return f\"{self.name.title().replace('_', ' ')}:\\n [{enchantment.max_level}] {enchantment.name for enchantment in self.enchantments}\"\n",
    "        \n",
    "def _scrape_items(data_src):\n",
    "    out = []\n",
    "    items = data_src.split(\"/\")[-1]\n",
    "    unwanted_strings_to_replace = [\".\", \"enchanted_\", \"iron\", \"png\", \"sm\"]\n",
    "    for unwanted_string in unwanted_strings_to_replace:\n",
    "        items = items.replace(unwanted_string, \"\")\n",
    "    if \"fishing_rod\" in items:\n",
    "        out.append(\"fishing_rod\")\n",
    "        items = items.replace(\"fishing_rod\", \"\")\n",
    "    out = out + items.split(\"_\")\n",
    "    return [item for item in out if item]\n",
    "\n",
    "def generate_enchantments(soup: Soup) -> dict:\n",
    "    \"\"\"Generates a dictionary of Enchantment objects\n",
    "    \n",
    "    With the key being the id_name of the enchantment.\n",
    "    \"\"\"\n",
    "    enchantments = {}\n",
    "    table = soup.find_all(\"table\", class_=\"std_table\")\n",
    "    for tr in table[0].find_all(\"tr\")[1:]:\n",
    "        elements = tr.find_all(\"td\")\n",
    "        if elements:\n",
    "            full_name = elements[0].text\n",
    "            name, id_name = full_name.split(\"(\")\n",
    "            id_name = id_name.strip(\")\")\n",
    "            max_level = roman.fromRoman(elements[1].text)\n",
    "            description = elements[2].text\n",
    "            items = _scrape_items(elements[4].img[\"data-src\"])\n",
    "            enchantments[id_name] = Enchantment(id_name, name, max_level, description, items)\n",
    "    return enchantments\n",
    "\n",
    "\n",
    "def generate_items(data):\n",
    "    \"\"\"Generates a dictionary of Item objects\n",
    "    \n",
    "    With the key being the item name.\n",
    "    \"\"\"\n",
    "    pass\n",
    "\n",
    "\n",
    "def get_soup(file=HTML_FILE):\n",
    "    \"\"\"Retrieves/takes source HTML and returns a BeautifulSoup object\"\"\"\n",
    "    if isinstance(file, Path):\n",
    "        if not HTML_FILE.is_file():\n",
    "            urlretrieve(URL, HTML_FILE)\n",
    "\n",
    "        with file.open() as html_source:\n",
    "            soup = Soup(html_source, \"html.parser\")\n",
    "    else:\n",
    "        soup = Soup(file, \"html.parser\")\n",
    "\n",
    "    return soup"
   ]
  },
  {
   "cell_type": "code",
   "execution_count": 4,
   "metadata": {},
   "outputs": [],
   "source": [
    "soup = get_soup(HTML_FILE)"
   ]
  },
  {
   "cell_type": "code",
   "execution_count": 5,
   "metadata": {},
   "outputs": [],
   "source": [
    "table = soup.find_all(\"table\", class_=\"std_table\")"
   ]
  },
  {
   "cell_type": "code",
   "execution_count": 6,
   "metadata": {},
   "outputs": [
    {
     "data": {
      "text/plain": [
       "'<__main__.Enchantment object at 0x000001D202EF19B0>'"
      ]
     },
     "execution_count": 6,
     "metadata": {},
     "output_type": "execute_result"
    }
   ],
   "source": [
    "repr(generate_enchantments(soup)['aqua_affinity'])"
   ]
  },
  {
   "cell_type": "code",
   "execution_count": 6,
   "metadata": {},
   "outputs": [],
   "source": [
    "import roman"
   ]
  },
  {
   "cell_type": "code",
   "execution_count": 7,
   "metadata": {},
   "outputs": [
    {
     "data": {
      "text/plain": [
       "5"
      ]
     },
     "execution_count": 7,
     "metadata": {},
     "output_type": "execute_result"
    }
   ],
   "source": [
    "roman.fromRoman('V')"
   ]
  },
  {
   "cell_type": "code",
   "execution_count": null,
   "metadata": {},
   "outputs": [],
   "source": []
  }
 ],
 "metadata": {
  "kernelspec": {
   "display_name": "Python 3",
   "language": "python",
   "name": "python3"
  },
  "language_info": {
   "codemirror_mode": {
    "name": "ipython",
    "version": 3
   },
   "file_extension": ".py",
   "mimetype": "text/x-python",
   "name": "python",
   "nbconvert_exporter": "python",
   "pygments_lexer": "ipython3",
   "version": "3.6.8-final"
  }
 },
 "nbformat": 4,
 "nbformat_minor": 4
}
